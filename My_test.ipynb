{
 "cells": [
  {
   "cell_type": "code",
   "execution_count": 14,
   "id": "mature-worst",
   "metadata": {},
   "outputs": [
    {
     "data": {
      "text/plain": [
       "'import json\\nfrom functools import reduce\\nfrom pymongo import MongoClient\\nfrom mongoConnection import *\\nfrom bson.json_util import dumps\\nfrom bson.objectid import ObjectId'"
      ]
     },
     "execution_count": 14,
     "metadata": {},
     "output_type": "execute_result"
    }
   ],
   "source": [
    "import requests\n",
    "from pymongo import MongoClient\n",
    "from bson.json_util import dumps\n",
    "from flask import Flask, request\n",
    "'''import json\n",
    "from functools import reduce\n",
    "from pymongo import MongoClient\n",
    "from mongoConnection import *\n",
    "from bson.json_util import dumps\n",
    "from bson.objectid import ObjectId'''"
   ]
  },
  {
   "cell_type": "code",
   "execution_count": 2,
   "id": "brazilian-paraguay",
   "metadata": {},
   "outputs": [
    {
     "data": {
      "text/plain": [
       "Database(MongoClient(host=['localhost:27017'], document_class=dict, tz_aware=False, connect=True), 'LIDLT')"
      ]
     },
     "execution_count": 2,
     "metadata": {},
     "output_type": "execute_result"
    }
   ],
   "source": [
    "client = MongoClient(\"mongodb://localhost/LIDLT\")\n",
    "db = client.get_database()\n",
    "client.LIDLT"
   ]
  },
  {
   "cell_type": "code",
   "execution_count": 3,
   "id": "sharp-premium",
   "metadata": {},
   "outputs": [
    {
     "data": {
      "text/plain": [
       "'Si no conoces el reality La Isla de las tentaciones visita:  https://www.telecinco.es/la-isla-de-las-tentaciones/'"
      ]
     },
     "execution_count": 3,
     "metadata": {},
     "output_type": "execute_result"
    }
   ],
   "source": [
    "#Endpoint introductorio\n",
    "res = requests.get(\"http://127.0.0.1:5000/inicio\")\n",
    "res.text"
   ]
  },
  {
   "cell_type": "code",
   "execution_count": 17,
   "id": "oriental-length",
   "metadata": {
    "scrolled": true
   },
   "outputs": [
    {
     "data": {
      "text/plain": [
       "'[{\"Mensaje\": \"Manuel la manita relajada. Manuel la manita, \\\\u00bfd\\\\u00f3nde vas?\"}, {\"Mensaje\": \"Ay mi Manuel. Es que yo le quiero mucho\"}, {\"Mensaje\": \"Pero \\\\u00e9l no te quiere a ti\"}, {\"Mensaje\": \"Me da pena, pero de la pena ni se come ni se vive\"}, {\"Mensaje\": \"Si me cambia por algo peor, me da risa. Estos labios preciosos que yo tengo no pueden besar a Ismael despu\\\\u00e9s de haberse besado con ese cuadro.\"}, {\"Mensaje\": \"Tengo palpitaciones en el nabo\"}, {\"Mensaje\": \"Mejor salir solo que con un pokem\\\\u00f3n al lado\"}, {\"Mensaje\": \"Le ha hecho un apu\\\\u00f1alamiento de ingle\"}, {\"Mensaje\": \"Despu\\\\u00e9s de varias decepciones, decid\\\\u00ed elaborar un cuestionario para sintetizar cosas que quer\\\\u00eda en una pareja. La primera pregunta, \\\\u00bfperros o gatos?\\\\u00bfCon qu\\\\u00e9 princesa Disney te identificas?\\\\u00bfSabes hacer buena tortilla?\"}, {\"Mensaje\": \"Andrea, perm\\\\u00edteme pero hay algo que no entiendo. Quieres que \\\\u00e9l te de explicacioes por un beso pero tu duermes con \\\\u00d3scar y te parece bien.\"}, {\"Mensaje\": \"Eres un desgraciado Tom Brusse\"}, {\"Mensaje\": \"Para m\\\\u00ed acaba de perder todo el valor que tiene una persona, y yo acabo de subir de rango, y soy mejor persona que \\\\u00e9l.\"}, {\"Mensaje\": \"Me quiero ir con mi familia. Quiero resguardarme en las personas que s\\\\u00ed me quieren de verdad y alg\\\\u00fan d\\\\u00eda dar\\\\u00e9 gracias por haber descubierto a la persona que ten\\\\u00eda a mi lado Me voy con la cabeza muy alta\"}, {\"Mensaje\": \"Mis principios est\\\\u00e1n por el suelo pero los recojo y me vuelvo a Canarias\"}, {\"Mensaje\": \"Voy a exprimir todo el jugo de Dani a ver qu\\\\u00e9 tal ese jugo\"}, {\"Mensaje\": \"\\\\u00bfHa habido Sexy, Sexy, Waka, Waka?\"}, {\"Mensaje\": \"Llevo once a\\\\u00f1os con Lester y no le conozco\"}, {\"Mensaje\": \"Madre m\\\\u00eda, que sabe poner las tildes y todo\"}, {\"Mensaje\": \"Quiero verlo conectar con alguien, quiero ponerlo a prueba de verdad. Necesito sentir que lo pierdo\"}, {\"Mensaje\": \"Me provocan verg\\\\u00fcenza estas im\\\\u00e1genes, dolor y verg\\\\u00fcenza, por su familia y por la gente que la queremos. Ha cruzado el l\\\\u00edmite de que no se ha respetado ella misma. Si no te respetas a ti misma, \\\\u00bfde qu\\\\u00e9 vales?, \\\\u00bfde qu\\\\u00e9 sirves?\"}, {\"Mensaje\": \"Me da coraje y me da tristeza que a m\\\\u00ed no me tiente nadie porque al final yo vengo aqu\\\\u00ed tambi\\\\u00e9n para que \\\\u00e9l sienta miedo de perderme y si es verdad que me quiere o no me quiere , y al final volvemos a lo mismo: el miedo lo siento yo y \\\\u00e9l super tranquilo\"}, {\"Mensaje\": \"Hace bien en llorar por el perro, porque como haya un beso que se olvide\"}, {\"Mensaje\": \"Tu me has hecho da\\\\u00f1o a mi y yo se lo he hecho al oso\"}, {\"Mensaje\": \"Que cada cerdo sujete su bellota\"}, {\"Mensaje\": \"Yo ment\\\\u00eda a Melyssa para no tener que aguantarla\"}, {\"Mensaje\": \"Hombres hay muchos pero , \\\\u00bfy mi perro?\"}, {\"Mensaje\": \"Ella tiene que valorar entre el jam\\\\u00f3n y el choped\"}, {\"Mensaje\": \"Yo soy una princesa pero en la cama tiro la corona y me vuelvo loca\"}, {\"Mensaje\": \"Es que mueves demasiado las tetas y me mareo\"}, {\"Mensaje\": \"Vaya cacho de mierda soy, me siento asi\"}, {\"Mensaje\": \"Yo he tenido que aguantar mucho su caracter mucho tiempo\"}, {\"Mensaje\": \"Es que el ha decidido ser libre sin una conversaci\\\\u00f3n\"}, {\"Mensaje\": \"No me puedes conocer porque nos conocimos ayer\"}]'"
      ]
     },
     "execution_count": 17,
     "metadata": {},
     "output_type": "execute_result"
    }
   ],
   "source": [
    "#Para conseguir todos los mensajes de todos los grupos\n",
    "res = requests.get(\"http://127.0.0.1:5000/mensajes\")\n",
    "res.text"
   ]
  },
  {
   "cell_type": "code",
   "execution_count": 5,
   "id": "enabling-amazon",
   "metadata": {},
   "outputs": [
    {
     "data": {
      "text/plain": [
       "'[{\"Nombre\": \"Luc\\\\u00eda\"}, {\"Nombre\": \"Marina\"}, {\"Nombre\": \"Fani\"}, {\"Nombre\": \"Andrea\"}, {\"Nombre\": \"Rub\\\\u00e9n\"}, {\"Nombre\": \"Gonzalo\"}, {\"Nombre\": \"Jose\"}, {\"Nombre\": \"Monica\"}, {\"Nombre\": \"Melyssa\"}, {\"Nombre\": \"Marta\"}, {\"Nombre\": \"Tom Brusse\"}, {\"Nombre\": \"Jesus\"}, {\"Nombre\": \"Diego\"}, {\"Nombre\": \"Pablo\"}, {\"Nombre\": \"Lola\"}, {\"Nombre\": \"Manuel\"}]'"
      ]
     },
     "execution_count": 5,
     "metadata": {},
     "output_type": "execute_result"
    }
   ],
   "source": [
    "#Para saber los participantes\n",
    "res = requests.get(\"http://127.0.0.1:5000/participantes\")\n",
    "res.text"
   ]
  },
  {
   "cell_type": "code",
   "execution_count": 6,
   "id": "needed-upper",
   "metadata": {},
   "outputs": [
    {
     "data": {
      "text/plain": [
       "'[{\"_id\": {\"$oid\": \"6033fec3a1d2ef5a2beb22a7\"}, \"Nombre\": \"Luc\\\\u00eda\", \"Edad\": 25, \"Origen\": \"C\\\\u00e1diz\", \"Infiel\": 0, \"Edici\\\\u00f3n\": \"3\", \"Pareja\": \"Manuel\"}]'"
      ]
     },
     "execution_count": 6,
     "metadata": {},
     "output_type": "execute_result"
    }
   ],
   "source": [
    "#Para conocer las características de cada participante\n",
    "res = requests.get(\"http://127.0.0.1:5000/participantes/details/6033fec3a1d2ef5a2beb22a7\")\n",
    "res.text"
   ]
  },
  {
   "cell_type": "code",
   "execution_count": 19,
   "id": "fleet-vessel",
   "metadata": {},
   "outputs": [
    {
     "data": {
      "text/plain": [
       "'<!DOCTYPE HTML PUBLIC \"-//W3C//DTD HTML 4.01 Transitional//EN\"\\n  \"http://www.w3.org/TR/html4/loose.dtd\">\\n<html>\\n  <head>\\n    <title>TypeError: name must be an instance of str // Werkzeug Debugger</title>\\n    <link rel=\"stylesheet\" href=\"?__debugger__=yes&amp;cmd=resource&amp;f=style.css\"\\n        type=\"text/css\">\\n    <!-- We need to make sure this has a favicon so that the debugger does\\n         not by accident trigger a request to /favicon.ico which might\\n         change the application state. -->\\n    <link rel=\"shortcut icon\"\\n        href=\"?__debugger__=yes&amp;cmd=resource&amp;f=console.png\">\\n    <script src=\"?__debugger__=yes&amp;cmd=resource&amp;f=jquery.js\"></script>\\n    <script src=\"?__debugger__=yes&amp;cmd=resource&amp;f=debugger.js\"></script>\\n    <script type=\"text/javascript\">\\n      var TRACEBACK = 140603191860768,\\n          CONSOLE_MODE = false,\\n          EVALEX = true,\\n          EVALEX_TRUSTED = false,\\n          SECRET = \"sL3nEHkurkWEgLkBWrVd\";\\n    </script>\\n  </head>\\n  <body style=\"background-color: #fff\">\\n    <div class=\"debugger\">\\n<h1>TypeError</h1>\\n<div class=\"detail\">\\n  <p class=\"errormsg\">TypeError: name must be an instance of str</p>\\n</div>\\n<h2 class=\"traceback\">Traceback <em>(most recent call last)</em></h2>\\n<div class=\"traceback\">\\n  \\n  <ul><li><div class=\"frame\" id=\"frame-140603191861104\">\\n  <h4>File <cite class=\"filename\">\"/usr/local/Caskroom/miniconda/base/envs/ironhack/lib/python3.8/site-packages/flask/app.py\"</cite>,\\n      line <em class=\"line\">2464</em>,\\n      in <code class=\"function\">__call__</code></h4>\\n  <div class=\"source library\"><pre class=\"line before\"><span class=\"ws\"></span> </pre>\\n<pre class=\"line before\"><span class=\"ws\">    </span>def __call__(self, environ, start_response):</pre>\\n<pre class=\"line before\"><span class=\"ws\">        </span>&quot;&quot;&quot;The WSGI server calls the Flask application object as the</pre>\\n<pre class=\"line before\"><span class=\"ws\">        </span>WSGI application. This calls :meth:`wsgi_app` which can be</pre>\\n<pre class=\"line before\"><span class=\"ws\">        </span>wrapped to applying middleware.&quot;&quot;&quot;</pre>\\n<pre class=\"line current\"><span class=\"ws\">        </span>return self.wsgi_app(environ, start_response)</pre>\\n<pre class=\"line after\"><span class=\"ws\"></span> </pre>\\n<pre class=\"line after\"><span class=\"ws\">    </span>def __repr__(self):</pre>\\n<pre class=\"line after\"><span class=\"ws\">        </span>return &quot;&lt;%s %r&gt;&quot; % (self.__class__.__name__, self.name)</pre></div>\\n</div>\\n\\n<li><div class=\"frame\" id=\"frame-140603191668640\">\\n  <h4>File <cite class=\"filename\">\"/usr/local/Caskroom/miniconda/base/envs/ironhack/lib/python3.8/site-packages/flask/app.py\"</cite>,\\n      line <em class=\"line\">2450</em>,\\n      in <code class=\"function\">wsgi_app</code></h4>\\n  <div class=\"source library\"><pre class=\"line before\"><span class=\"ws\">            </span>try:</pre>\\n<pre class=\"line before\"><span class=\"ws\">                </span>ctx.push()</pre>\\n<pre class=\"line before\"><span class=\"ws\">                </span>response = self.full_dispatch_request()</pre>\\n<pre class=\"line before\"><span class=\"ws\">            </span>except Exception as e:</pre>\\n<pre class=\"line before\"><span class=\"ws\">                </span>error = e</pre>\\n<pre class=\"line current\"><span class=\"ws\">                </span>response = self.handle_exception(e)</pre>\\n<pre class=\"line after\"><span class=\"ws\">            </span>except:  # noqa: B001</pre>\\n<pre class=\"line after\"><span class=\"ws\">                </span>error = sys.exc_info()[1]</pre>\\n<pre class=\"line after\"><span class=\"ws\">                </span>raise</pre>\\n<pre class=\"line after\"><span class=\"ws\">            </span>return response(environ, start_response)</pre>\\n<pre class=\"line after\"><span class=\"ws\">        </span>finally:</pre></div>\\n</div>\\n\\n<li><div class=\"frame\" id=\"frame-140603191861152\">\\n  <h4>File <cite class=\"filename\">\"/usr/local/Caskroom/miniconda/base/envs/ironhack/lib/python3.8/site-packages/flask/app.py\"</cite>,\\n      line <em class=\"line\">1867</em>,\\n      in <code class=\"function\">handle_exception</code></h4>\\n  <div class=\"source library\"><pre class=\"line before\"><span class=\"ws\">            </span># if we want to repropagate the exception, we can attempt to</pre>\\n<pre class=\"line before\"><span class=\"ws\">            </span># raise it with the whole traceback in case we can do that</pre>\\n<pre class=\"line before\"><span class=\"ws\">            </span># (the function was actually called from the except part)</pre>\\n<pre class=\"line before\"><span class=\"ws\">            </span># otherwise, we just raise the error again</pre>\\n<pre class=\"line before\"><span class=\"ws\">            </span>if exc_value is e:</pre>\\n<pre class=\"line current\"><span class=\"ws\">                </span>reraise(exc_type, exc_value, tb)</pre>\\n<pre class=\"line after\"><span class=\"ws\">            </span>else:</pre>\\n<pre class=\"line after\"><span class=\"ws\">                </span>raise e</pre>\\n<pre class=\"line after\"><span class=\"ws\"></span> </pre>\\n<pre class=\"line after\"><span class=\"ws\">        </span>self.log_exception((exc_type, exc_value, tb))</pre>\\n<pre class=\"line after\"><span class=\"ws\">        </span>server_error = InternalServerError()</pre></div>\\n</div>\\n\\n<li><div class=\"frame\" id=\"frame-140603191860720\">\\n  <h4>File <cite class=\"filename\">\"/usr/local/Caskroom/miniconda/base/envs/ironhack/lib/python3.8/site-packages/flask/_compat.py\"</cite>,\\n      line <em class=\"line\">39</em>,\\n      in <code class=\"function\">reraise</code></h4>\\n  <div class=\"source library\"><pre class=\"line before\"><span class=\"ws\">    </span>import collections.abc as collections_abc</pre>\\n<pre class=\"line before\"><span class=\"ws\"></span> </pre>\\n<pre class=\"line before\"><span class=\"ws\">    </span>def reraise(tp, value, tb=None):</pre>\\n<pre class=\"line before\"><span class=\"ws\">        </span>if value.__traceback__ is not tb:</pre>\\n<pre class=\"line before\"><span class=\"ws\">            </span>raise value.with_traceback(tb)</pre>\\n<pre class=\"line current\"><span class=\"ws\">        </span>raise value</pre>\\n<pre class=\"line after\"><span class=\"ws\"></span> </pre>\\n<pre class=\"line after\"><span class=\"ws\">    </span>implements_to_string = _identity</pre>\\n<pre class=\"line after\"><span class=\"ws\"></span> </pre>\\n<pre class=\"line after\"><span class=\"ws\"></span>else:</pre>\\n<pre class=\"line after\"><span class=\"ws\">    </span>iterkeys = lambda d: d.iterkeys()</pre></div>\\n</div>\\n\\n<li><div class=\"frame\" id=\"frame-140603191861200\">\\n  <h4>File <cite class=\"filename\">\"/usr/local/Caskroom/miniconda/base/envs/ironhack/lib/python3.8/site-packages/flask/app.py\"</cite>,\\n      line <em class=\"line\">2447</em>,\\n      in <code class=\"function\">wsgi_app</code></h4>\\n  <div class=\"source library\"><pre class=\"line before\"><span class=\"ws\">        </span>ctx = self.request_context(environ)</pre>\\n<pre class=\"line before\"><span class=\"ws\">        </span>error = None</pre>\\n<pre class=\"line before\"><span class=\"ws\">        </span>try:</pre>\\n<pre class=\"line before\"><span class=\"ws\">            </span>try:</pre>\\n<pre class=\"line before\"><span class=\"ws\">                </span>ctx.push()</pre>\\n<pre class=\"line current\"><span class=\"ws\">                </span>response = self.full_dispatch_request()</pre>\\n<pre class=\"line after\"><span class=\"ws\">            </span>except Exception as e:</pre>\\n<pre class=\"line after\"><span class=\"ws\">                </span>error = e</pre>\\n<pre class=\"line after\"><span class=\"ws\">                </span>response = self.handle_exception(e)</pre>\\n<pre class=\"line after\"><span class=\"ws\">            </span>except:  # noqa: B001</pre>\\n<pre class=\"line after\"><span class=\"ws\">                </span>error = sys.exc_info()[1]</pre></div>\\n</div>\\n\\n<li><div class=\"frame\" id=\"frame-140603191860912\">\\n  <h4>File <cite class=\"filename\">\"/usr/local/Caskroom/miniconda/base/envs/ironhack/lib/python3.8/site-packages/flask/app.py\"</cite>,\\n      line <em class=\"line\">1952</em>,\\n      in <code class=\"function\">full_dispatch_request</code></h4>\\n  <div class=\"source library\"><pre class=\"line before\"><span class=\"ws\">            </span>request_started.send(self)</pre>\\n<pre class=\"line before\"><span class=\"ws\">            </span>rv = self.preprocess_request()</pre>\\n<pre class=\"line before\"><span class=\"ws\">            </span>if rv is None:</pre>\\n<pre class=\"line before\"><span class=\"ws\">                </span>rv = self.dispatch_request()</pre>\\n<pre class=\"line before\"><span class=\"ws\">        </span>except Exception as e:</pre>\\n<pre class=\"line current\"><span class=\"ws\">            </span>rv = self.handle_user_exception(e)</pre>\\n<pre class=\"line after\"><span class=\"ws\">        </span>return self.finalize_request(rv)</pre>\\n<pre class=\"line after\"><span class=\"ws\"></span> </pre>\\n<pre class=\"line after\"><span class=\"ws\">    </span>def finalize_request(self, rv, from_error_handler=False):</pre>\\n<pre class=\"line after\"><span class=\"ws\">        </span>&quot;&quot;&quot;Given the return value from a view function this finalizes</pre>\\n<pre class=\"line after\"><span class=\"ws\">        </span>the request by converting it into a response and invoking the</pre></div>\\n</div>\\n\\n<li><div class=\"frame\" id=\"frame-140603191860864\">\\n  <h4>File <cite class=\"filename\">\"/usr/local/Caskroom/miniconda/base/envs/ironhack/lib/python3.8/site-packages/flask/app.py\"</cite>,\\n      line <em class=\"line\">1821</em>,\\n      in <code class=\"function\">handle_user_exception</code></h4>\\n  <div class=\"source library\"><pre class=\"line before\"><span class=\"ws\">            </span>return self.handle_http_exception(e)</pre>\\n<pre class=\"line before\"><span class=\"ws\"></span> </pre>\\n<pre class=\"line before\"><span class=\"ws\">        </span>handler = self._find_error_handler(e)</pre>\\n<pre class=\"line before\"><span class=\"ws\"></span> </pre>\\n<pre class=\"line before\"><span class=\"ws\">        </span>if handler is None:</pre>\\n<pre class=\"line current\"><span class=\"ws\">            </span>reraise(exc_type, exc_value, tb)</pre>\\n<pre class=\"line after\"><span class=\"ws\">        </span>return handler(e)</pre>\\n<pre class=\"line after\"><span class=\"ws\"></span> </pre>\\n<pre class=\"line after\"><span class=\"ws\">    </span>def handle_exception(self, e):</pre>\\n<pre class=\"line after\"><span class=\"ws\">        </span>&quot;&quot;&quot;Handle an exception that did not have an error handler</pre>\\n<pre class=\"line after\"><span class=\"ws\">        </span>associated with it, or that was raised from an error handler.</pre></div>\\n</div>\\n\\n<li><div class=\"frame\" id=\"frame-140603196469648\">\\n  <h4>File <cite class=\"filename\">\"/usr/local/Caskroom/miniconda/base/envs/ironhack/lib/python3.8/site-packages/flask/_compat.py\"</cite>,\\n      line <em class=\"line\">39</em>,\\n      in <code class=\"function\">reraise</code></h4>\\n  <div class=\"source library\"><pre class=\"line before\"><span class=\"ws\">    </span>import collections.abc as collections_abc</pre>\\n<pre class=\"line before\"><span class=\"ws\"></span> </pre>\\n<pre class=\"line before\"><span class=\"ws\">    </span>def reraise(tp, value, tb=None):</pre>\\n<pre class=\"line before\"><span class=\"ws\">        </span>if value.__traceback__ is not tb:</pre>\\n<pre class=\"line before\"><span class=\"ws\">            </span>raise value.with_traceback(tb)</pre>\\n<pre class=\"line current\"><span class=\"ws\">        </span>raise value</pre>\\n<pre class=\"line after\"><span class=\"ws\"></span> </pre>\\n<pre class=\"line after\"><span class=\"ws\">    </span>implements_to_string = _identity</pre>\\n<pre class=\"line after\"><span class=\"ws\"></span> </pre>\\n<pre class=\"line after\"><span class=\"ws\"></span>else:</pre>\\n<pre class=\"line after\"><span class=\"ws\">    </span>iterkeys = lambda d: d.iterkeys()</pre></div>\\n</div>\\n\\n<li><div class=\"frame\" id=\"frame-140603196469696\">\\n  <h4>File <cite class=\"filename\">\"/usr/local/Caskroom/miniconda/base/envs/ironhack/lib/python3.8/site-packages/flask/app.py\"</cite>,\\n      line <em class=\"line\">1950</em>,\\n      in <code class=\"function\">full_dispatch_request</code></h4>\\n  <div class=\"source library\"><pre class=\"line before\"><span class=\"ws\">        </span>self.try_trigger_before_first_request_functions()</pre>\\n<pre class=\"line before\"><span class=\"ws\">        </span>try:</pre>\\n<pre class=\"line before\"><span class=\"ws\">            </span>request_started.send(self)</pre>\\n<pre class=\"line before\"><span class=\"ws\">            </span>rv = self.preprocess_request()</pre>\\n<pre class=\"line before\"><span class=\"ws\">            </span>if rv is None:</pre>\\n<pre class=\"line current\"><span class=\"ws\">                </span>rv = self.dispatch_request()</pre>\\n<pre class=\"line after\"><span class=\"ws\">        </span>except Exception as e:</pre>\\n<pre class=\"line after\"><span class=\"ws\">            </span>rv = self.handle_user_exception(e)</pre>\\n<pre class=\"line after\"><span class=\"ws\">        </span>return self.finalize_request(rv)</pre>\\n<pre class=\"line after\"><span class=\"ws\"></span> </pre>\\n<pre class=\"line after\"><span class=\"ws\">    </span>def finalize_request(self, rv, from_error_handler=False):</pre></div>\\n</div>\\n\\n<li><div class=\"frame\" id=\"frame-140603196469744\">\\n  <h4>File <cite class=\"filename\">\"/usr/local/Caskroom/miniconda/base/envs/ironhack/lib/python3.8/site-packages/flask/app.py\"</cite>,\\n      line <em class=\"line\">1936</em>,\\n      in <code class=\"function\">dispatch_request</code></h4>\\n  <div class=\"source library\"><pre class=\"line before\"><span class=\"ws\">            </span>getattr(rule, &quot;provide_automatic_options&quot;, False)</pre>\\n<pre class=\"line before\"><span class=\"ws\">            </span>and req.method == &quot;OPTIONS&quot;</pre>\\n<pre class=\"line before\"><span class=\"ws\">        </span>):</pre>\\n<pre class=\"line before\"><span class=\"ws\">            </span>return self.make_default_options_response()</pre>\\n<pre class=\"line before\"><span class=\"ws\">        </span># otherwise dispatch to the handler for that endpoint</pre>\\n<pre class=\"line current\"><span class=\"ws\">        </span>return self.view_functions[rule.endpoint](**req.view_args)</pre>\\n<pre class=\"line after\"><span class=\"ws\"></span> </pre>\\n<pre class=\"line after\"><span class=\"ws\">    </span>def full_dispatch_request(self):</pre>\\n<pre class=\"line after\"><span class=\"ws\">        </span>&quot;&quot;&quot;Dispatches the request and on top of that performs request</pre>\\n<pre class=\"line after\"><span class=\"ws\">        </span>pre and postprocessing as well as HTTP exception catching and</pre>\\n<pre class=\"line after\"><span class=\"ws\">        </span>error handling.</pre></div>\\n</div>\\n\\n<li><div class=\"frame\" id=\"frame-140603196469792\">\\n  <h4>File <cite class=\"filename\">\"/Users/sonia/Documents/IRONHACK/Git/Repositories/week 6/api-sentiment-project/api_LIDLT.py\"</cite>,\\n      line <em class=\"line\">55</em>,\\n      in <code class=\"function\">participantes_new</code></h4>\\n  <div class=\"source \"><pre class=\"line before\"><span class=\"ws\">    </span>q = {&quot;Nombre&quot;:args[&quot;Nombre&quot;]}</pre>\\n<pre class=\"line before\"><span class=\"ws\">    </span>data =read_data(q,&quot;Participantes&quot;)</pre>\\n<pre class=\"line before\"><span class=\"ws\">    </span>if len(data)&gt;1:</pre>\\n<pre class=\"line before\"><span class=\"ws\">        </span>return{&quot;Error&quot;: &quot;El participante ya está registrado&quot;}</pre>\\n<pre class=\"line before\"><span class=\"ws\"></span> </pre>\\n<pre class=\"line current\"><span class=\"ws\">    </span>res = insert_data(args,&quot;Participantes&quot;)</pre>\\n<pre class=\"line after\"><span class=\"ws\">    </span>return json_util.dumps({&quot;_id&quot;:res})</pre>\\n<pre class=\"line after\"><span class=\"ws\"></span> </pre>\\n<pre class=\"line after\"><span class=\"ws\"></span>app.run(debug = True)</pre></div>\\n</div>\\n\\n<li><div class=\"frame\" id=\"frame-140603196469600\">\\n  <h4>File <cite class=\"filename\">\"/Users/sonia/Documents/IRONHACK/Git/Repositories/week 6/api-sentiment-project/mongoConnection.py\"</cite>,\\n      line <em class=\"line\">10</em>,\\n      in <code class=\"function\">insert_data</code></h4>\\n  <div class=\"source \"><pre class=\"line before\"><span class=\"ws\"></span>\\'\\'\\'db.create_collection(name = \\'Frases\\')</pre>\\n<pre class=\"line before\"><span class=\"ws\"></span>db.create_collection(name= \\'Grupos\\')</pre>\\n<pre class=\"line before\"><span class=\"ws\"></span>db.create_collection(name= \\'Participantes\\')\\'\\'\\'</pre>\\n<pre class=\"line before\"><span class=\"ws\"></span> </pre>\\n<pre class=\"line before\"><span class=\"ws\"></span>def insert_data (coll,data,database = db):</pre>\\n<pre class=\"line current\"><span class=\"ws\">    </span>res = database[coll].insert_one (data)</pre>\\n<pre class=\"line after\"><span class=\"ws\">    </span>return res.inserted_id</pre>\\n<pre class=\"line after\"><span class=\"ws\"></span> </pre>\\n<pre class=\"line after\"><span class=\"ws\"></span>def read_data (query,coll,database = db, project=None):</pre>\\n<pre class=\"line after\"><span class=\"ws\">    </span>data= database[coll].find(query,project)</pre>\\n<pre class=\"line after\"><span class=\"ws\">    </span>return list(data)</pre></div>\\n</div>\\n\\n<li><div class=\"frame\" id=\"frame-140603196469840\">\\n  <h4>File <cite class=\"filename\">\"/usr/local/Caskroom/miniconda/base/envs/ironhack/lib/python3.8/site-packages/pymongo/database.py\"</cite>,\\n      line <em class=\"line\">300</em>,\\n      in <code class=\"function\">__getitem__</code></h4>\\n  <div class=\"source library\"><pre class=\"line before\"><span class=\"ws\">        </span>Raises InvalidName if an invalid collection name is used.</pre>\\n<pre class=\"line before\"><span class=\"ws\"></span> </pre>\\n<pre class=\"line before\"><span class=\"ws\">        </span>:Parameters:</pre>\\n<pre class=\"line before\"><span class=\"ws\">          </span>- `name`: the name of the collection to get</pre>\\n<pre class=\"line before\"><span class=\"ws\">        </span>&quot;&quot;&quot;</pre>\\n<pre class=\"line current\"><span class=\"ws\">        </span>return Collection(self, name)</pre>\\n<pre class=\"line after\"><span class=\"ws\"></span> </pre>\\n<pre class=\"line after\"><span class=\"ws\">    </span>def get_collection(self, name, codec_options=None, read_preference=None,</pre>\\n<pre class=\"line after\"><span class=\"ws\">                       </span>write_concern=None, read_concern=None):</pre>\\n<pre class=\"line after\"><span class=\"ws\">        </span>&quot;&quot;&quot;Get a :class:`~pymongo.collection.Collection` with the given name</pre>\\n<pre class=\"line after\"><span class=\"ws\">        </span>and options.</pre></div>\\n</div>\\n\\n<li><div class=\"frame\" id=\"frame-140603196469936\">\\n  <h4>File <cite class=\"filename\">\"/usr/local/Caskroom/miniconda/base/envs/ironhack/lib/python3.8/site-packages/pymongo/collection.py\"</cite>,\\n      line <em class=\"line\">166</em>,\\n      in <code class=\"function\">__init__</code></h4>\\n  <div class=\"source library\"><pre class=\"line before\"><span class=\"ws\">            </span>read_preference or database.read_preference,</pre>\\n<pre class=\"line before\"><span class=\"ws\">            </span>write_concern or database.write_concern,</pre>\\n<pre class=\"line before\"><span class=\"ws\">            </span>read_concern or database.read_concern)</pre>\\n<pre class=\"line before\"><span class=\"ws\"></span> </pre>\\n<pre class=\"line before\"><span class=\"ws\">        </span>if not isinstance(name, string_type):</pre>\\n<pre class=\"line current\"><span class=\"ws\">            </span>raise TypeError(&quot;name must be an instance &quot;</pre>\\n<pre class=\"line after\"><span class=\"ws\">                            </span>&quot;of %s&quot; % (string_type.__name__,))</pre>\\n<pre class=\"line after\"><span class=\"ws\"></span> </pre>\\n<pre class=\"line after\"><span class=\"ws\">        </span>if not name or &quot;..&quot; in name:</pre>\\n<pre class=\"line after\"><span class=\"ws\">            </span>raise InvalidName(&quot;collection names cannot be empty&quot;)</pre>\\n<pre class=\"line after\"><span class=\"ws\">        </span>if &quot;$&quot; in name and not (name.startswith(&quot;oplog.$main&quot;) or</pre></div>\\n</div>\\n</ul>\\n  <blockquote>TypeError: name must be an instance of str</blockquote>\\n</div>\\n\\n<div class=\"plain\">\\n  <form action=\"/?__debugger__=yes&amp;cmd=paste\" method=\"post\">\\n    <p>\\n      <input type=\"hidden\" name=\"language\" value=\"pytb\">\\n      This is the Copy/Paste friendly version of the traceback.  <span\\n      class=\"pastemessage\">You can also paste this traceback into\\n      a <a href=\"https://gist.github.com/\">gist</a>:\\n      <input type=\"submit\" value=\"create paste\"></span>\\n    </p>\\n    <textarea cols=\"50\" rows=\"10\" name=\"code\" readonly>Traceback (most recent call last):\\n  File &quot;/usr/local/Caskroom/miniconda/base/envs/ironhack/lib/python3.8/site-packages/flask/app.py&quot;, line 2464, in __call__\\n    return self.wsgi_app(environ, start_response)\\n  File &quot;/usr/local/Caskroom/miniconda/base/envs/ironhack/lib/python3.8/site-packages/flask/app.py&quot;, line 2450, in wsgi_app\\n    response = self.handle_exception(e)\\n  File &quot;/usr/local/Caskroom/miniconda/base/envs/ironhack/lib/python3.8/site-packages/flask/app.py&quot;, line 1867, in handle_exception\\n    reraise(exc_type, exc_value, tb)\\n  File &quot;/usr/local/Caskroom/miniconda/base/envs/ironhack/lib/python3.8/site-packages/flask/_compat.py&quot;, line 39, in reraise\\n    raise value\\n  File &quot;/usr/local/Caskroom/miniconda/base/envs/ironhack/lib/python3.8/site-packages/flask/app.py&quot;, line 2447, in wsgi_app\\n    response = self.full_dispatch_request()\\n  File &quot;/usr/local/Caskroom/miniconda/base/envs/ironhack/lib/python3.8/site-packages/flask/app.py&quot;, line 1952, in full_dispatch_request\\n    rv = self.handle_user_exception(e)\\n  File &quot;/usr/local/Caskroom/miniconda/base/envs/ironhack/lib/python3.8/site-packages/flask/app.py&quot;, line 1821, in handle_user_exception\\n    reraise(exc_type, exc_value, tb)\\n  File &quot;/usr/local/Caskroom/miniconda/base/envs/ironhack/lib/python3.8/site-packages/flask/_compat.py&quot;, line 39, in reraise\\n    raise value\\n  File &quot;/usr/local/Caskroom/miniconda/base/envs/ironhack/lib/python3.8/site-packages/flask/app.py&quot;, line 1950, in full_dispatch_request\\n    rv = self.dispatch_request()\\n  File &quot;/usr/local/Caskroom/miniconda/base/envs/ironhack/lib/python3.8/site-packages/flask/app.py&quot;, line 1936, in dispatch_request\\n    return self.view_functions[rule.endpoint](**req.view_args)\\n  File &quot;/Users/sonia/Documents/IRONHACK/Git/Repositories/week 6/api-sentiment-project/api_LIDLT.py&quot;, line 55, in participantes_new\\n    res = insert_data(args,&quot;Participantes&quot;)\\n  File &quot;/Users/sonia/Documents/IRONHACK/Git/Repositories/week 6/api-sentiment-project/mongoConnection.py&quot;, line 10, in insert_data\\n    res = database[coll].insert_one (data)\\n  File &quot;/usr/local/Caskroom/miniconda/base/envs/ironhack/lib/python3.8/site-packages/pymongo/database.py&quot;, line 300, in __getitem__\\n    return Collection(self, name)\\n  File &quot;/usr/local/Caskroom/miniconda/base/envs/ironhack/lib/python3.8/site-packages/pymongo/collection.py&quot;, line 166, in __init__\\n    raise TypeError(&quot;name must be an instance &quot;\\nTypeError: name must be an instance of str</textarea>\\n  </form>\\n</div>\\n<div class=\"explanation\">\\n  The debugger caught an exception in your WSGI application.  You can now\\n  look at the traceback which led to the error.  <span class=\"nojavascript\">\\n  If you enable JavaScript you can also use additional features such as code\\n  execution (if the evalex feature is enabled), automatic pasting of the\\n  exceptions and much more.</span>\\n</div>\\n      <div class=\"footer\">\\n        Brought to you by <strong class=\"arthur\">DON\\'T PANIC</strong>, your\\n        friendly Werkzeug powered traceback interpreter.\\n      </div>\\n    </div>\\n\\n    <div class=\"pin-prompt\">\\n      <div class=\"inner\">\\n        <h3>Console Locked</h3>\\n        <p>\\n          The console is locked and needs to be unlocked by entering the PIN.\\n          You can find the PIN printed out on the standard output of your\\n          shell that runs the server.\\n        <form>\\n          <p>PIN:\\n            <input type=text name=pin size=14>\\n            <input type=submit name=btn value=\"Confirm Pin\">\\n        </form>\\n      </div>\\n    </div>\\n  </body>\\n</html>\\n\\n<!--\\n\\nTraceback (most recent call last):\\n  File \"/usr/local/Caskroom/miniconda/base/envs/ironhack/lib/python3.8/site-packages/flask/app.py\", line 2464, in __call__\\n    return self.wsgi_app(environ, start_response)\\n  File \"/usr/local/Caskroom/miniconda/base/envs/ironhack/lib/python3.8/site-packages/flask/app.py\", line 2450, in wsgi_app\\n    response = self.handle_exception(e)\\n  File \"/usr/local/Caskroom/miniconda/base/envs/ironhack/lib/python3.8/site-packages/flask/app.py\", line 1867, in handle_exception\\n    reraise(exc_type, exc_value, tb)\\n  File \"/usr/local/Caskroom/miniconda/base/envs/ironhack/lib/python3.8/site-packages/flask/_compat.py\", line 39, in reraise\\n    raise value\\n  File \"/usr/local/Caskroom/miniconda/base/envs/ironhack/lib/python3.8/site-packages/flask/app.py\", line 2447, in wsgi_app\\n    response = self.full_dispatch_request()\\n  File \"/usr/local/Caskroom/miniconda/base/envs/ironhack/lib/python3.8/site-packages/flask/app.py\", line 1952, in full_dispatch_request\\n    rv = self.handle_user_exception(e)\\n  File \"/usr/local/Caskroom/miniconda/base/envs/ironhack/lib/python3.8/site-packages/flask/app.py\", line 1821, in handle_user_exception\\n    reraise(exc_type, exc_value, tb)\\n  File \"/usr/local/Caskroom/miniconda/base/envs/ironhack/lib/python3.8/site-packages/flask/_compat.py\", line 39, in reraise\\n    raise value\\n  File \"/usr/local/Caskroom/miniconda/base/envs/ironhack/lib/python3.8/site-packages/flask/app.py\", line 1950, in full_dispatch_request\\n    rv = self.dispatch_request()\\n  File \"/usr/local/Caskroom/miniconda/base/envs/ironhack/lib/python3.8/site-packages/flask/app.py\", line 1936, in dispatch_request\\n    return self.view_functions[rule.endpoint](**req.view_args)\\n  File \"/Users/sonia/Documents/IRONHACK/Git/Repositories/week 6/api-sentiment-project/api_LIDLT.py\", line 55, in participantes_new\\n    res = insert_data(args,\"Participantes\")\\n  File \"/Users/sonia/Documents/IRONHACK/Git/Repositories/week 6/api-sentiment-project/mongoConnection.py\", line 10, in insert_data\\n    res = database[coll].insert_one (data)\\n  File \"/usr/local/Caskroom/miniconda/base/envs/ironhack/lib/python3.8/site-packages/pymongo/database.py\", line 300, in __getitem__\\n    return Collection(self, name)\\n  File \"/usr/local/Caskroom/miniconda/base/envs/ironhack/lib/python3.8/site-packages/pymongo/collection.py\", line 166, in __init__\\n    raise TypeError(\"name must be an instance \"\\nTypeError: name must be an instance of str\\n\\n-->\\n'"
      ]
     },
     "execution_count": 19,
     "metadata": {},
     "output_type": "execute_result"
    }
   ],
   "source": [
    "#Para añadir un participante\n",
    "query = {\"Nombre\": \"Claudia\",\n",
    "    \"Edad\": \"23\",\n",
    "    \"Origen\": \"Las Palmas\",\n",
    "    \"Infiel\": \"0\",\n",
    "    \"Edición\": \"3\",\n",
    "    \"Pareja\": \"Raul\"}\n",
    "res = requests.get(\"http://127.0.0.1:5000/participantes/new\", params=query)\n",
    "res.text"
   ]
  },
  {
   "cell_type": "code",
   "execution_count": null,
   "id": "formal-theater",
   "metadata": {},
   "outputs": [],
   "source": [
    "\"Nombre Edad Origen Infiel Edición Pareja\""
   ]
  }
 ],
 "metadata": {
  "kernelspec": {
   "display_name": "Python 3",
   "language": "python",
   "name": "python3"
  },
  "language_info": {
   "codemirror_mode": {
    "name": "ipython",
    "version": 3
   },
   "file_extension": ".py",
   "mimetype": "text/x-python",
   "name": "python",
   "nbconvert_exporter": "python",
   "pygments_lexer": "ipython3",
   "version": "3.8.5"
  },
  "toc": {
   "base_numbering": 1,
   "nav_menu": {},
   "number_sections": true,
   "sideBar": true,
   "skip_h1_title": true,
   "title_cell": "Table of Contents",
   "title_sidebar": "Contents",
   "toc_cell": false,
   "toc_position": {},
   "toc_section_display": true,
   "toc_window_display": false
  },
  "varInspector": {
   "cols": {
    "lenName": 16,
    "lenType": 16,
    "lenVar": 40
   },
   "kernels_config": {
    "python": {
     "delete_cmd_postfix": "",
     "delete_cmd_prefix": "del ",
     "library": "var_list.py",
     "varRefreshCmd": "print(var_dic_list())"
    },
    "r": {
     "delete_cmd_postfix": ") ",
     "delete_cmd_prefix": "rm(",
     "library": "var_list.r",
     "varRefreshCmd": "cat(var_dic_list()) "
    }
   },
   "types_to_exclude": [
    "module",
    "function",
    "builtin_function_or_method",
    "instance",
    "_Feature"
   ],
   "window_display": false
  }
 },
 "nbformat": 4,
 "nbformat_minor": 5
}
